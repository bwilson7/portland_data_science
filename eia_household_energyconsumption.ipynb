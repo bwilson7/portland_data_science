{
 "cells": [
  {
   "cell_type": "markdown",
   "metadata": {},
   "source": [
    "# Can household characteristics predict who is having trouble with bills?"
   ]
  },
  {
   "cell_type": "code",
   "execution_count": 63,
   "metadata": {},
   "outputs": [],
   "source": [
    "import pandas as pd\n",
    "import numpy as np\n",
    "import matplotlib.pyplot as plt\n",
    "import seaborn as sns\n",
    "\n",
    "from sklearn.model_selection import train_test_split\n",
    "from sklearn.ensemble import RandomForestClassifier\n",
    "from sklearn.metrics import classification_report, confusion_matrix"
   ]
  },
  {
   "cell_type": "markdown",
   "metadata": {},
   "source": [
    "## Functions"
   ]
  },
  {
   "cell_type": "code",
   "execution_count": 34,
   "metadata": {},
   "outputs": [],
   "source": [
    "#function from Kenny\n",
    "def resample_data(data):\n",
    "    # calculate the number of times to duplicate each sample\n",
    "    weights_scaled = ((data['NWEIGHT']/data['NWEIGHT'].min())).astype(int)\n",
    "    # duplicate the original indices based on weights_scaled\n",
    "    resampled_idx = data.index.repeat(weights_scaled.values)\n",
    "    # create dummy dataframe with duplicated index and join original data\n",
    "    resampled_data = pd.DataFrame(index=resampled_idx, columns=['dummy']).join(data)\n",
    "    # delete dummy column and reset index\n",
    "    resampled_data = resampled_data.drop('dummy', axis=1).reset_index(drop=True)\n",
    "    return resampled_data"
   ]
  },
  {
   "cell_type": "code",
   "execution_count": 49,
   "metadata": {},
   "outputs": [
    {
     "data": {
      "text/plain": [
       "(5686, 759)"
      ]
     },
     "execution_count": 49,
     "metadata": {},
     "output_type": "execute_result"
    }
   ],
   "source": [
    "df = pd.read_csv(\"recs2015_public_v4.csv\")\n",
    "df.shape"
   ]
  },
  {
   "cell_type": "code",
   "execution_count": 50,
   "metadata": {},
   "outputs": [
    {
     "data": {
      "text/plain": [
       "(5686, 528)"
      ]
     },
     "execution_count": 50,
     "metadata": {},
     "output_type": "execute_result"
    }
   ],
   "source": [
    "#remove columns with imputation codes\n",
    "impute_columns = []\n",
    "cols = df.columns\n",
    "\n",
    "#Columns with impute binary code all start with Z\n",
    "for i in enumerate(cols.str.contains('Z')):\n",
    "    if i[1] == True:\n",
    "        impute_columns.append(cols[i[0]])\n",
    "        \n",
    "df = df.loc[:, ~df.columns.isin(impute_columns)]\n",
    "df.shape"
   ]
  },
  {
   "cell_type": "code",
   "execution_count": 48,
   "metadata": {},
   "outputs": [],
   "source": [
    "# I want to try running the model without resampling to test whether or not \n",
    "# the expansion of the dataset is hindering our ability to predict without overfitting.\n",
    "# Potentially there is some unintentional induced reinforcement that is causing overfit\n",
    "# (perfect predictions in the trainset).\n",
    "\n",
    "#df = resample_data(df)\n",
    "#df.shape"
   ]
  },
  {
   "cell_type": "code",
   "execution_count": 51,
   "metadata": {},
   "outputs": [],
   "source": [
    "# reorganizing the categories in the three columns that were identified as indicating  \n",
    "# hardship so that they are ordinal\n",
    "code_xform = {0:0, 1:3, 2:2, 3:1}\n",
    "\n",
    "df['SCALEEf'] = df['SCALEE'].map(code_xform)\n",
    "df['SCALEGf'] = df['SCALEG'].map(code_xform)\n",
    "df['SCALEBf'] = df['SCALEB'].map(code_xform)"
   ]
  },
  {
   "cell_type": "code",
   "execution_count": 52,
   "metadata": {},
   "outputs": [],
   "source": [
    "mask = (\n",
    "    (df['SCALEEf'] > 0) |\n",
    "    (df['SCALEGf'] > 0) |\n",
    "    (df['SCALEBf'] > 0) \n",
    ")\n",
    "\n",
    "# Defining a simple HARDSHIP variable for modeling\n",
    "df.loc[:, 'HARDSHIP'] = 0\n",
    "df.loc[mask, 'HARDSHIP'] = 1"
   ]
  },
  {
   "cell_type": "code",
   "execution_count": 53,
   "metadata": {},
   "outputs": [
    {
     "data": {
      "text/plain": [
       "0    4116\n",
       "1    1570\n",
       "Name: HARDSHIP, dtype: int64"
      ]
     },
     "execution_count": 53,
     "metadata": {},
     "output_type": "execute_result"
    }
   ],
   "source": [
    "df['HARDSHIP'].value_counts()"
   ]
  },
  {
   "cell_type": "code",
   "execution_count": 79,
   "metadata": {},
   "outputs": [],
   "source": [
    "for col in df.select_dtypes('object').columns:\n",
    "    hold = pd.get_dummies(df[col], prefix='{}'.format(col))\n",
    "    df = pd.concat([df, hold], axis=1)"
   ]
  },
  {
   "cell_type": "code",
   "execution_count": 80,
   "metadata": {},
   "outputs": [
    {
     "data": {
      "text/plain": [
       "(5686, 554)"
      ]
     },
     "execution_count": 80,
     "metadata": {},
     "output_type": "execute_result"
    }
   ],
   "source": [
    "df.shape"
   ]
  },
  {
   "cell_type": "code",
   "execution_count": 98,
   "metadata": {},
   "outputs": [],
   "source": [
    "df.dropna(inplace=True)"
   ]
  },
  {
   "cell_type": "code",
   "execution_count": 99,
   "metadata": {},
   "outputs": [
    {
     "name": "stdout",
     "output_type": "stream",
     "text": [
      "Training Rows: 1618\n",
      "Validation Rows: 694\n",
      "Test Rows: 992\n"
     ]
    }
   ],
   "source": [
    "targets = ['SCALEEf', 'SCALEGf', 'SCALEBf', 'HARDSHIP']\n",
    "drop_cols = [i for i in df.select_dtypes('object').columns] + targets\n",
    "X = df.drop(drop_cols, axis=1)\n",
    "Y = df['HARDSHIP']\n",
    "\n",
    "# splitting the dataset into three subsets so that overfit can be evaluated and handled\n",
    "# without there being any bleed over into the testset\n",
    "X_train, X_test, Y_train, Y_test = train_test_split(X, Y, test_size=0.3, random_state=1)\n",
    "X_train, X_val, Y_train, Y_val = train_test_split(X_train, Y_train, test_size=0.3, random_state=1)\n",
    "\n",
    "print('Training Rows: {}'.format(len(X_train)))\n",
    "print('Validation Rows: {}'.format(len(X_val)))\n",
    "print('Test Rows: {}'.format(len(X_test)))"
   ]
  },
  {
   "cell_type": "code",
   "execution_count": 106,
   "metadata": {},
   "outputs": [
    {
     "name": "stdout",
     "output_type": "stream",
     "text": [
      "Training Classification Metrics\n",
      "[[1193    0]\n",
      " [   2  423]]\n",
      "              precision    recall  f1-score   support\n",
      "\n",
      "           0       1.00      1.00      1.00      1193\n",
      "           1       1.00      1.00      1.00       425\n",
      "\n",
      "   micro avg       1.00      1.00      1.00      1618\n",
      "   macro avg       1.00      1.00      1.00      1618\n",
      "weighted avg       1.00      1.00      1.00      1618\n",
      "\n",
      "Validation Classification Metrics\n",
      "[[522   8]\n",
      " [ 37 127]]\n",
      "              precision    recall  f1-score   support\n",
      "\n",
      "           0       0.93      0.98      0.96       530\n",
      "           1       0.94      0.77      0.85       164\n",
      "\n",
      "   micro avg       0.94      0.94      0.94       694\n",
      "   macro avg       0.94      0.88      0.90       694\n",
      "weighted avg       0.94      0.94      0.93       694\n",
      "\n"
     ]
    },
    {
     "name": "stderr",
     "output_type": "stream",
     "text": [
      "/anaconda3/lib/python3.7/site-packages/sklearn/ensemble/forest.py:246: FutureWarning: The default value of n_estimators will change from 10 in version 0.20 to 100 in 0.22.\n",
      "  \"10 in version 0.20 to 100 in 0.22.\", FutureWarning)\n"
     ]
    }
   ],
   "source": [
    "rfc = RandomForestClassifier()\n",
    "rfc.fit(X_train, Y_train)\n",
    "\n",
    "Y_train_pred = rfc.predict(X_train)\n",
    "Y_val_pred = rfc.predict(X_val)\n",
    "\n",
    "print('Training Classification Metrics')\n",
    "print(confusion_matrix(Y_train, Y_train_pred))\n",
    "print(classification_report(Y_train, Y_train_pred))\n",
    "\n",
    "print('Validation Classification Metrics')\n",
    "print(confusion_matrix(Y_val, Y_val_pred))\n",
    "print(classification_report(Y_val, Y_val_pred))"
   ]
  }
 ],
 "metadata": {
  "kernelspec": {
   "display_name": "Python 3",
   "language": "python",
   "name": "python3"
  },
  "language_info": {
   "codemirror_mode": {
    "name": "ipython",
    "version": 3
   },
   "file_extension": ".py",
   "mimetype": "text/x-python",
   "name": "python",
   "nbconvert_exporter": "python",
   "pygments_lexer": "ipython3",
   "version": "3.7.1"
  },
  "toc": {
   "base_numbering": 1,
   "nav_menu": {},
   "number_sections": true,
   "sideBar": true,
   "skip_h1_title": true,
   "title_cell": "Table of Contents",
   "title_sidebar": "Contents",
   "toc_cell": false,
   "toc_position": {},
   "toc_section_display": true,
   "toc_window_display": true
  }
 },
 "nbformat": 4,
 "nbformat_minor": 2
}
